{
  "nbformat": 4,
  "nbformat_minor": 0,
  "metadata": {
    "colab": {
      "name": "06_3_Perceptrons_training_v1 (2).ipynb",
      "version": "0.3.2",
      "provenance": [],
      "include_colab_link": true
    },
    "language_info": {
      "codemirror_mode": {
        "name": "ipython",
        "version": 2
      },
      "file_extension": ".py",
      "mimetype": "text/x-python",
      "name": "python",
      "nbconvert_exporter": "python",
      "pygments_lexer": "ipython2",
      "version": "2.7.12"
    },
    "kernelspec": {
      "display_name": "KerasTF_py2",
      "language": "python",
      "name": "kerastf_py2"
    }
  },
  "cells": [
    {
      "cell_type": "markdown",
      "metadata": {
        "id": "view-in-github",
        "colab_type": "text"
      },
      "source": [
        "<a href=\"https://colab.research.google.com/github/LeeHoSeung0227/HoSeung/blob/master/06_3_Perceptrons_training_v1_(2).ipynb\" target=\"_parent\"><img src=\"https://colab.research.google.com/assets/colab-badge.svg\" alt=\"Open In Colab\"/></a>"
      ]
    },
    {
      "metadata": {
        "id": "gP-rNDOL5VP7",
        "colab_type": "text"
      },
      "cell_type": "markdown",
      "source": [
        "### Perceptrons - Training"
      ]
    },
    {
      "metadata": {
        "id": "oFN7z4GL5VP-",
        "colab_type": "text"
      },
      "cell_type": "markdown",
      "source": [
        "Note for 717005@ Hallym University !"
      ]
    },
    {
      "metadata": {
        "id": "m74eub5E5VP_",
        "colab_type": "text"
      },
      "cell_type": "markdown",
      "source": [
        "* Make a prediction with weights"
      ]
    },
    {
      "metadata": {
        "id": "GHObvJaQ5VQB",
        "colab_type": "code",
        "colab": {}
      },
      "cell_type": "code",
      "source": [
        "def predict(X, w):\n",
        "    bias = w[0]\n",
        "    activation = bias + w[1]* X[0] + w[2]* X[1]\n",
        "    if activation >= 0.0:\n",
        "        return 1.0\n",
        "    else:\n",
        "        return 0.0"
      ],
      "execution_count": 0,
      "outputs": []
    },
    {
      "metadata": {
        "id": "_M_zmY2d5VQG",
        "colab_type": "text"
      },
      "cell_type": "markdown",
      "source": [
        "* Estimate Perceptron weights using stochastic gradient descent"
      ]
    },
    {
      "metadata": {
        "id": "diZCy8qO5VQH",
        "colab_type": "code",
        "colab": {}
      },
      "cell_type": "code",
      "source": [
        "def train_weights(train, l_rate, n_epoch):\n",
        "    weights = [0.0 for i in range(len(train[0]))]\n",
        "    for epoch in range(n_epoch):\n",
        "        sum_error = 0.0\n",
        "        for row in train:\n",
        "            prediction = predict(row, weights)\n",
        "            error = row[-1] - prediction\n",
        "            sum_error += error**2\n",
        "            weights[0] = weights[0] + l_rate * error\n",
        "            for i in range(len(row)-1):\n",
        "                weights[i + 1] = weights[i + 1] + l_rate * error * row[i]\n",
        "        print('epoch={}, error={}'.format(epoch, sum_error))\n",
        "    return weights"
      ],
      "execution_count": 0,
      "outputs": []
    },
    {
      "metadata": {
        "id": "Sx9oGCaQ5VQL",
        "colab_type": "code",
        "colab": {}
      },
      "cell_type": "code",
      "source": [
        "# test predictions\n",
        "dataset = [[2.7810836,2.550537003,0],\n",
        "    [1.465489372,2.362125076,0],\n",
        "    [3.396561688,4.400293529,0],\n",
        "    [1.38807019,1.850220317,0],\n",
        "    [3.06407232,3.005305973,0],\n",
        "    [7.627531214,2.759262235,1],\n",
        "    [5.332441248,2.088626775,1],\n",
        "    [6.922596716,1.77106367,1],\n",
        "    [8.675418651,-0.242068655,1],\n",
        "    [7.673756466,3.508563011,1]]"
      ],
      "execution_count": 0,
      "outputs": []
    },
    {
      "metadata": {
        "id": "Wf9lh2iN5VQP",
        "colab_type": "text"
      },
      "cell_type": "markdown",
      "source": [
        "* Hyperparameters"
      ]
    },
    {
      "metadata": {
        "id": "FmPFLdiX5VQQ",
        "colab_type": "code",
        "colab": {}
      },
      "cell_type": "code",
      "source": [
        "l_rate = 0.1\n",
        "n_epoch = 5"
      ],
      "execution_count": 0,
      "outputs": []
    },
    {
      "metadata": {
        "id": "EkXlXPqX5VQT",
        "colab_type": "code",
        "colab": {},
        "outputId": "e8fe33c6-e364-4610-9315-ec4d9db405bd"
      },
      "cell_type": "code",
      "source": [
        "weights = train_weights(dataset, l_rate, n_epoch)"
      ],
      "execution_count": 0,
      "outputs": [
        {
          "output_type": "stream",
          "text": [
            "epoch=0, error=2.0\n",
            "epoch=1, error=1.0\n",
            "epoch=2, error=0.0\n",
            "epoch=3, error=0.0\n",
            "epoch=4, error=0.0\n"
          ],
          "name": "stdout"
        }
      ]
    },
    {
      "metadata": {
        "id": "j3SFJSf_5VQZ",
        "colab_type": "code",
        "colab": {},
        "outputId": "36c50b4b-3857-4d4a-c6a4-b730f43f6b2c"
      },
      "cell_type": "code",
      "source": [
        "print(weights)"
      ],
      "execution_count": 0,
      "outputs": [
        {
          "output_type": "stream",
          "text": [
            "[-0.1, 0.20653640140000007, -0.23418117710000003]\n"
          ],
          "name": "stdout"
        }
      ]
    },
    {
      "metadata": {
        "id": "NZ0MQco75VQd",
        "colab_type": "text"
      },
      "cell_type": "markdown",
      "source": [
        "* Why ?"
      ]
    },
    {
      "metadata": {
        "id": "tkhoRnVb5VQe",
        "colab_type": "text"
      },
      "cell_type": "markdown",
      "source": [
        "partial derivative with respect to m"
      ]
    },
    {
      "metadata": {
        "id": "KcJxYfph5VQf",
        "colab_type": "text"
      },
      "cell_type": "markdown",
      "source": [
        "$$ \\frac{\\partial J(m,b)}{\\partial m} =  \\frac{1}{n}\\sum_{i=1}^{n} -2 x^{(i)} (y_{i}-(mx^{(i)} + b)) \\\\\n",
        "= \\frac{2}{n}\\sum_{i=1}^{n} x^{(i)} ((mx^{(i)} + b)-y^{(i)}) \\\\\n",
        "= \\frac{2}{n}\\sum_{i=1}^{n} x^{(i)} (\\hat{y}^{(i)} -y^{(i)})$$"
      ]
    },
    {
      "metadata": {
        "id": "km4iMFV_5VQf",
        "colab_type": "text"
      },
      "cell_type": "markdown",
      "source": [
        "partial derivative with respect to b"
      ]
    },
    {
      "metadata": {
        "id": "ugl4rBfW5VQg",
        "colab_type": "text"
      },
      "cell_type": "markdown",
      "source": [
        "$$ \\frac{\\partial J(m,b)}{\\partial b} =  \\frac{1}{n}\\sum_{i=1}^{n} -2  (y^{(i)}-(mx^{(i)} + b)) \\\\\n",
        "= \\frac{-2}{n}\\sum_{i=1}^{n}  (y^{(i)}-(mx^{(i)} + b)) \\\\\n",
        "= \\frac{2}{n}\\sum_{i=1}^{n}  (\\hat{y}^{(i)}-y^{(i)}) \\\\ $$\n"
      ]
    },
    {
      "metadata": {
        "id": "bSuBYLU15VQj",
        "colab_type": "text"
      },
      "cell_type": "markdown",
      "source": [
        "Partial derivatives : https://www.mathsisfun.com/calculus/derivatives-partial.html"
      ]
    },
    {
      "metadata": {
        "id": "BXg69qI25VQk",
        "colab_type": "text"
      },
      "cell_type": "markdown",
      "source": [
        "* References"
      ]
    },
    {
      "metadata": {
        "id": "FKo52HRs5VQk",
        "colab_type": "text"
      },
      "cell_type": "markdown",
      "source": [
        "```\n",
        "https://machinelearningmastery.com/implement-perceptron-algorithm-scratch-python/\n",
        "```"
      ]
    }
  ]
}