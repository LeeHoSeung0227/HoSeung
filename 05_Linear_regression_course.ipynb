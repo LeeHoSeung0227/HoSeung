{
  "nbformat": 4,
  "nbformat_minor": 0,
  "metadata": {
    "colab": {
      "name": "05_Linear_regression_course.ipynb",
      "version": "0.3.2",
      "provenance": [],
      "collapsed_sections": [],
      "include_colab_link": true
    },
    "kernelspec": {
      "name": "python3",
      "display_name": "Python 3"
    }
  },
  "cells": [
    {
      "cell_type": "markdown",
      "metadata": {
        "id": "view-in-github",
        "colab_type": "text"
      },
      "source": [
        "<a href=\"https://colab.research.google.com/github/LeeHoSeung0227/HoSeung/blob/master/05_Linear_regression_course.ipynb\" target=\"_parent\"><img src=\"https://colab.research.google.com/assets/colab-badge.svg\" alt=\"Open In Colab\"/></a>"
      ]
    },
    {
      "metadata": {
        "id": "m3seGljdDcFn",
        "colab_type": "text"
      },
      "cell_type": "markdown",
      "source": [
        "## Linear Regression"
      ]
    },
    {
      "metadata": {
        "id": "vHzzJLPvDcFo",
        "colab_type": "text"
      },
      "cell_type": "markdown",
      "source": [
        "### OBJECTIVE: Understand and practice linear regression.\n",
        "* Very important !"
      ]
    },
    {
      "metadata": {
        "colab_type": "code",
        "id": "ObrlFsLKTkVJ",
        "colab": {}
      },
      "cell_type": "code",
      "source": [
        "import tensorflow as tf\n",
        "import numpy as np\n",
        "import matplotlib.pyplot as plt"
      ],
      "execution_count": 0,
      "outputs": []
    },
    {
      "metadata": {
        "colab_type": "text",
        "id": "Ff--9qgf5KiX"
      },
      "cell_type": "markdown",
      "source": [
        "**X and Y data**"
      ]
    },
    {
      "metadata": {
        "colab_type": "code",
        "id": "m8a3CxTPTmGW",
        "colab": {}
      },
      "cell_type": "code",
      "source": [
        "x_train = [1, 2, 3, 4, 5]\n",
        "#y_train =[2, 4, 6, 8, 10]\n",
        "y_train = [2+0.1+3, 4-0.3+3, 6+0+3, 8+0.2+3, 10+0.2+3] #  Add some noise "
      ],
      "execution_count": 0,
      "outputs": []
    },
    {
      "metadata": {
        "colab_type": "text",
        "id": "SkmD0jC-5O4h"
      },
      "cell_type": "markdown",
      "source": [
        "**Initialization**"
      ]
    },
    {
      "metadata": {
        "colab_type": "code",
        "id": "s2teBTHMTpvu",
        "colab": {}
      },
      "cell_type": "code",
      "source": [
        "#W = tf.Variable(tf.random_normal([1]), name='weight')\n",
        "#b = tf.Variable(tf.random_normal([1]), name='bias')\n",
        "w0 = 7.0;\n",
        "b0 = 5.0;\n",
        "\n",
        "W = tf.Variable(w0*tf.ones([1]), name='weight')\n",
        "b = tf.Variable(b0*tf.ones([1]), name='bias')"
      ],
      "execution_count": 0,
      "outputs": []
    },
    {
      "metadata": {
        "colab_type": "text",
        "id": "bKecubeL5Rk1"
      },
      "cell_type": "markdown",
      "source": [
        "**Our hypothesis XW+b**"
      ]
    },
    {
      "metadata": {
        "colab_type": "code",
        "id": "qc634hVjTshB",
        "colab": {}
      },
      "cell_type": "code",
      "source": [
        "hypothesis = x_train * W + b"
      ],
      "execution_count": 0,
      "outputs": []
    },
    {
      "metadata": {
        "colab_type": "text",
        "id": "hgAMH_UP5Vei"
      },
      "cell_type": "markdown",
      "source": [
        "**cost/loss function**"
      ]
    },
    {
      "metadata": {
        "colab_type": "code",
        "id": "5RPz8FVqTvaD",
        "colab": {}
      },
      "cell_type": "code",
      "source": [
        "cost = tf.reduce_mean(tf.square(hypothesis - y_train))"
      ],
      "execution_count": 0,
      "outputs": []
    },
    {
      "metadata": {
        "colab_type": "text",
        "id": "jfkFeTNj5bd0"
      },
      "cell_type": "markdown",
      "source": [
        "**Optimizer**"
      ]
    },
    {
      "metadata": {
        "colab_type": "code",
        "id": "_hpMR9RZTwjC",
        "colab": {}
      },
      "cell_type": "code",
      "source": [
        "optimizer = tf.train.GradientDescentOptimizer(learning_rate=0.01)\n",
        "train = optimizer.minimize(cost)\n"
      ],
      "execution_count": 0,
      "outputs": []
    },
    {
      "metadata": {
        "colab_type": "text",
        "id": "Yv_IR1Wx44M6"
      },
      "cell_type": "markdown",
      "source": [
        "**Launch the graph in a session**"
      ]
    },
    {
      "metadata": {
        "colab_type": "code",
        "id": "LN795UxoTxtC",
        "colab": {}
      },
      "cell_type": "code",
      "source": [
        "sess = tf.Session()"
      ],
      "execution_count": 0,
      "outputs": []
    },
    {
      "metadata": {
        "colab_type": "text",
        "id": "vQAFU25K5BCw"
      },
      "cell_type": "markdown",
      "source": [
        "**Initializes global variables in the graph.** "
      ]
    },
    {
      "metadata": {
        "colab_type": "code",
        "id": "oA5AMENsTzDW",
        "colab": {}
      },
      "cell_type": "code",
      "source": [
        "sess.run(tf.global_variables_initializer())"
      ],
      "execution_count": 0,
      "outputs": []
    },
    {
      "metadata": {
        "colab_type": "code",
        "id": "Of8RSfAgT065",
        "outputId": "96acb770-a85c-457f-d8a6-7d9e456f4be7",
        "colab": {
          "base_uri": "https://localhost:8080/",
          "height": 386
        }
      },
      "cell_type": "code",
      "source": [
        "vw=[]\n",
        "vb=[]\n",
        "\n",
        "for step in range(2001):\n",
        "    sess.run(train)\n",
        "    w1 = sess.run(W)[0] # slope\n",
        "    b1 = sess.run(b)[0] # bias\n",
        "    \n",
        "    vw.append(w1)\n",
        "    vb.append(b1)\n",
        "    \n",
        "    if step % 100 == 0:\n",
        "        \n",
        "        print(step, sess.run(cost), w1, b1)"
      ],
      "execution_count": 59,
      "outputs": [
        {
          "output_type": "stream",
          "text": [
            "0 196.01698 5.7852 4.6608\n",
            "100 0.07586509 1.9230028 3.360706\n",
            "200 0.05064097 1.9652324 3.208244\n",
            "300 0.037827875 1.9953303 3.0995808\n",
            "400 0.031319335 2.0167816 3.0221353\n",
            "500 0.028013254 2.0320702 2.9669387\n",
            "600 0.026333824 2.0429666 2.9275994\n",
            "700 0.025480792 2.0507329 2.8995612\n",
            "800 0.025047392 2.0562675 2.879578\n",
            "900 0.024827268 2.060213 2.865334\n",
            "1000 0.024715478 2.0630248 2.855183\n",
            "1100 0.024658607 2.0650287 2.8479483\n",
            "1200 0.024629768 2.0664568 2.842792\n",
            "1300 0.024615107 2.0674746 2.8391168\n",
            "1400 0.0246077 2.0682003 2.8364978\n",
            "1500 0.02460393 2.068717 2.8346314\n",
            "1600 0.024601962 2.0690854 2.8333013\n",
            "1700 0.024601024 2.0693479 2.8323536\n",
            "1800 0.024600517 2.0695353 2.8316782\n",
            "1900 0.024600266 2.0696688 2.8311968\n",
            "2000 0.024600161 2.0697634 2.8308535\n"
          ],
          "name": "stdout"
        }
      ]
    },
    {
      "metadata": {
        "id": "DGHy3cX3Dzx6",
        "colab_type": "code",
        "colab": {
          "base_uri": "https://localhost:8080/",
          "height": 365
        },
        "outputId": "b4e48dc7-1f93-45ad-83f8-0b1204970f3d"
      },
      "cell_type": "code",
      "source": [
        "plt.plot(vw)"
      ],
      "execution_count": 60,
      "outputs": [
        {
          "output_type": "execute_result",
          "data": {
            "text/plain": [
              "[<matplotlib.lines.Line2D at 0x7fe00d8d2400>]"
            ]
          },
          "metadata": {
            "tags": []
          },
          "execution_count": 60
        },
        {
          "output_type": "display_data",
          "data": {
            "image/png": "[encoded data removed]",
            "text/plain": [
              "<Figure size 576x396 with 1 Axes>"
            ]
          },
          "metadata": {
            "tags": []
          }
        }
      ]
    },
    {
      "metadata": {
        "id": "rF8MT6o9EXko",
        "colab_type": "code",
        "colab": {
          "base_uri": "https://localhost:8080/",
          "height": 369
        },
        "outputId": "7b8b21e8-8254-4d80-b2e8-e08f29119530"
      },
      "cell_type": "code",
      "source": [
        "plt.plot(vb)"
      ],
      "execution_count": 61,
      "outputs": [
        {
          "output_type": "execute_result",
          "data": {
            "text/plain": [
              "[<matplotlib.lines.Line2D at 0x7fe01613a2b0>]"
            ]
          },
          "metadata": {
            "tags": []
          },
          "execution_count": 61
        },
        {
          "output_type": "display_data",
          "data": {
            "image/png": "[encoded data removed]",
            "text/plain": [
              "<Figure size 576x396 with 1 Axes>"
            ]
          },
          "metadata": {
            "tags": []
          }
        }
      ]
    },
    {
      "metadata": {
        "colab_type": "text",
        "id": "gbt69NzVUGYw"
      },
      "cell_type": "markdown",
      "source": [
        "**Complete training**"
      ]
    },
    {
      "metadata": {
        "colab_type": "code",
        "id": "2aMiqAyJUDbs",
        "outputId": "97793a61-7bf2-490d-c9e6-db875fec1720",
        "colab": {
          "base_uri": "https://localhost:8080/",
          "height": 52
        }
      },
      "cell_type": "code",
      "source": [
        "w1 = sess.run(W)[0] # slope\n",
        "b1 = sess.run(b)[0] # bias\n",
        "str1 = 'y = ' + str(w1) +'x + ' + str(b1)\n",
        "print(w1, b1)\n",
        "print(str1)"
      ],
      "execution_count": 62,
      "outputs": [
        {
          "output_type": "stream",
          "text": [
            "2.0697634 2.8308535\n",
            "y = 2.0697634x + 2.8308535\n"
          ],
          "name": "stdout"
        }
      ]
    },
    {
      "metadata": {
        "colab_type": "code",
        "id": "ZFOmY19QUNKh",
        "outputId": "2d5f4bce-c104-42b4-93ed-9495c7257e6d",
        "colab": {
          "base_uri": "https://localhost:8080/",
          "height": 379
        }
      },
      "cell_type": "code",
      "source": [
        "plt.figure(1)\n",
        "plt.plot(x_train, y_train,'o')\n",
        "\n",
        "x1 = np.linspace(np.min(x_train)-1, np.max(x_train)+1)\n",
        "y1 = w1*x1 + b1\n",
        "plt.plot(x1, y1)\n",
        "plt.grid() \n",
        "plt.title(str1)"
      ],
      "execution_count": 64,
      "outputs": [
        {
          "output_type": "execute_result",
          "data": {
            "text/plain": [
              "Text(0.5, 1.0, 'y = 2.0697634x + 2.8308535')"
            ]
          },
          "metadata": {
            "tags": []
          },
          "execution_count": 64
        },
        {
          "output_type": "display_data",
          "data": {
            "image/png": "[encoded data removed]",
            "text/plain": [
              "<Figure size 576x396 with 1 Axes>"
            ]
          },
          "metadata": {
            "tags": []
          }
        }
      ]
    }
  ]
}